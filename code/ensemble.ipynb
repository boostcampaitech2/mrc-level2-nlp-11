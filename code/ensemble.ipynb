{
 "cells": [
  {
   "cell_type": "code",
   "execution_count": 1,
   "id": "88637d92-1d9a-496b-aec7-42fa58774e49",
   "metadata": {},
   "outputs": [],
   "source": [
    "import numpy as np\n",
    "import pandas as pd\n",
    "import os\n",
    "import json\n",
    "from collections import Counter"
   ]
  },
  {
   "cell_type": "code",
   "execution_count": 20,
   "id": "0197f380-2964-4356-a600-a621521ef441",
   "metadata": {},
   "outputs": [],
   "source": [
    "path = \"/opt/ml/code/ensemble/\"\n",
    "file_list = os.listdir(path)"
   ]
  },
  {
   "cell_type": "code",
   "execution_count": 21,
   "id": "094cfcf0-b665-4e07-bde5-f38a35942bff",
   "metadata": {},
   "outputs": [],
   "source": [
    "retrieval_score = {\n",
    "    \"tfidf\": 0.7562,\n",
    "    \"elastic\": 0.8576,\n",
    "    \"bm25\": 0.8630\n",
    "}\n",
    "reader_score = {\n",
    "    \"robertaL\": 72.50,\n",
    "    \"robertaB\": 66.66,\n",
    "    \"koelectra\": 51.66,\n",
    "    \"xlmrobertaL\": 56.17,\n",
    "    \"bertB\": 58.75,\n",
    "    \"custom1\": 71.66,\n",
    "    \"custom2\": 72.50,\n",
    "    \"custom3\": 71.66,\n",
    "}"
   ]
  },
  {
   "cell_type": "code",
   "execution_count": 22,
   "id": "0b74a826-24ca-4ef4-8661-13ee26a77ef1",
   "metadata": {},
   "outputs": [],
   "source": [
    "files = []\n",
    "scores = []\n",
    "for name in file_list:\n",
    "    if '.json' in name:\n",
    "        bef, _ = name.split(\".\")\n",
    "        reader, retrieval = bef.split(\"_\")\n",
    "        scores.append(reader_score[reader]*retrieval_score[retrieval])\n",
    "        with open(path+name, \"r\", encoding=\"utf-8\") as f:\n",
    "            prediction_json = json.load(f)\n",
    "            files.append(prediction_json)"
   ]
  },
  {
   "cell_type": "code",
   "execution_count": null,
   "id": "53780389-dee0-408f-9775-d72adabf7994",
   "metadata": {
    "collapsed": true,
    "jupyter": {
     "outputs_hidden": true
    },
    "tags": []
   },
   "outputs": [],
   "source": [
    "(file_list, scores)"
   ]
  },
  {
   "cell_type": "code",
   "execution_count": 23,
   "id": "e9e58f68-dab1-4d03-9be1-5daa02065f7c",
   "metadata": {},
   "outputs": [],
   "source": [
    "final_prediction = dict()"
   ]
  },
  {
   "cell_type": "code",
   "execution_count": null,
   "id": "85fe8a10-2aed-495f-995e-c8db54b8b821",
   "metadata": {
    "collapsed": true,
    "jupyter": {
     "outputs_hidden": true
    },
    "tags": []
   },
   "outputs": [],
   "source": [
    "z = 0\n",
    "for q_id in files[0]:\n",
    "    tmp_list = []\n",
    "    score_dict = dict()\n",
    "    for i in range(len(files)):\n",
    "        file = files[i]\n",
    "        tmp_list.append(file[q_id])\n",
    "        if file[q_id] not in score_dict:\n",
    "            score_dict[file[q_id]] = scores[i]\n",
    "        else:\n",
    "            score_dict[file[q_id]] += scores[i]\n",
    "    count = Counter(tmp_list)\n",
    "    print(count)\n",
    "    answer = ''\n",
    "    cnt = 0\n",
    "    for tmp_answer in count:\n",
    "        if cnt < count[tmp_answer]:\n",
    "            cnt = count[tmp_answer]\n",
    "            answer = tmp_answer\n",
    "        elif cnt == count[tmp_answer]:\n",
    "            if score_dict[answer] < score_dict[tmp_answer]:\n",
    "                answer = tmp_answer\n",
    "    final_prediction[q_id] = answer"
   ]
  },
  {
   "cell_type": "code",
   "execution_count": 25,
   "id": "74e76fc1-b44f-4add-884c-ef846cad6fac",
   "metadata": {},
   "outputs": [],
   "source": [
    "with open(path+\"ensemble_output.json\", 'w', encoding='utf-8') as make_file:\n",
    "    json.dump(final_prediction, make_file, indent=\"\\t\", ensure_ascii=False)"
   ]
  },
  {
   "cell_type": "code",
   "execution_count": null,
   "id": "6c5eff26-cb10-4421-a615-f87c58608009",
   "metadata": {},
   "outputs": [],
   "source": []
  }
 ],
 "metadata": {
  "kernelspec": {
   "display_name": "Python 3 (ipykernel)",
   "language": "python",
   "name": "python3"
  },
  "language_info": {
   "codemirror_mode": {
    "name": "ipython",
    "version": 3
   },
   "file_extension": ".py",
   "mimetype": "text/x-python",
   "name": "python",
   "nbconvert_exporter": "python",
   "pygments_lexer": "ipython3",
   "version": "3.8.5"
  }
 },
 "nbformat": 4,
 "nbformat_minor": 5
}
