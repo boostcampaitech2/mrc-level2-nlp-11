{
 "cells": [
  {
   "cell_type": "code",
   "execution_count": 1,
   "id": "3758c9c2-9bda-4c2e-85e8-70130a0cccdf",
   "metadata": {},
   "outputs": [],
   "source": [
    "from elasticsearch import Elasticsearch"
   ]
  },
  {
   "cell_type": "code",
   "execution_count": 2,
   "id": "763823a9-5662-422f-9048-d60d78867358",
   "metadata": {},
   "outputs": [],
   "source": [
    "config = {'host':'localhost', 'port':9200}\n",
    "es = Elasticsearch([config])"
   ]
  },
  {
   "cell_type": "code",
   "execution_count": 3,
   "id": "5776d207-92cb-4db1-934e-fc0a51c05f8f",
   "metadata": {},
   "outputs": [
    {
     "name": "stdout",
     "output_type": "stream",
     "text": [
      "{'text': '이 문서는 나라 목록이며, 전 세계 206개 나라의 각 현황과 주권 승인 정보를 개요 형태로 나열하고 있다.\\n\\n이 목록은 명료화를 위해 두 부분으로 나뉘어 있다.\\n\\n# 첫 번째 부분은 바티칸 시국과 팔레스타인을 포함하여 유엔 등 국제 기구에 가입되어 국제적인 승인을 널리 받았다고 여기는 195개 나라를 나열하고 있다.\\n# 두 번째 부분은 일부 지역의 주권을 사실상 (데 팍토) 행사하고 있지만, 아직 국제적인 승인을 널리 받지 않았다고 여기는 11개 나라를 나열하고 있다.\\n\\n두 목록은 모두 가나다 순이다.\\n\\n일부 국가의 경우 국가로서의 자격에 논쟁의 여부가 있으며, 이 때문에 이러한 목록을 엮는 것은 매우 어렵고 논란이 생길 수 있는 과정이다. 이 목록을 구성하고 있는 국가를 선정하는 기준에 대한 정보는 \"포함 기준\" 단락을 통해 설명하였다. 나라에 대한 일반적인 정보는 \"국가\" 문서에서 설명하고 있다.', 'corpus_source': '위키피디아', 'url': 'TODO', 'domain': None, 'title': '나라 목록', 'author': None, 'html': None, 'document_id': 0}\n"
     ]
    }
   ],
   "source": [
    "import json\n",
    "wiki_path = \"/opt/ml/mrc-level2-nlp-11/data/wikipedia_documents.json\"\n",
    "with open(wiki_path, \"r\", encoding=\"utf-8\") as f:\n",
    "    wiki_json = json.load(f)\n",
    "    print(wiki_json[\"0\"])\n"
   ]
  },
  {
   "cell_type": "code",
   "execution_count": 4,
   "id": "cfae3c84-0efd-445d-a33b-c72733ea54f7",
   "metadata": {},
   "outputs": [
    {
     "data": {
      "text/plain": [
       "[{'id': 0,\n",
       "  'title': '나라 목록',\n",
       "  'context': '이 문서는 나라 목록이며, 전 세계 206개 나라의 각 현황과 주권 승인 정보를 개요 형태로 나열하고 있다.\\n\\n이 목록은 명료화를 위해 두 부분으로 나뉘어 있다.\\n\\n# 첫 번째 부분은 바티칸 시국과 팔레스타인을 포함하여 유엔 등 국제 기구에 가입되어 국제적인 승인을 널리 받았다고 여기는 195개 나라를 나열하고 있다.\\n# 두 번째 부분은 일부 지역의 주권을 사실상 (데 팍토) 행사하고 있지만, 아직 국제적인 승인을 널리 받지 않았다고 여기는 11개 나라를 나열하고 있다.\\n\\n두 목록은 모두 가나다 순이다.\\n\\n일부 국가의 경우 국가로서의 자격에 논쟁의 여부가 있으며, 이 때문에 이러한 목록을 엮는 것은 매우 어렵고 논란이 생길 수 있는 과정이다. 이 목록을 구성하고 있는 국가를 선정하는 기준에 대한 정보는 \"포함 기준\" 단락을 통해 설명하였다. 나라에 대한 일반적인 정보는 \"국가\" 문서에서 설명하고 있다.'}]"
      ]
     },
     "execution_count": 4,
     "metadata": {},
     "output_type": "execute_result"
    }
   ],
   "source": [
    "wiki_contexts = [{\"id\": val[\"document_id\"], \"title\": val[\"title\"], \"context\" : val[\"text\"]} for key, val in wiki_json.items()]\n",
    "wiki_contexts[:1]"
   ]
  },
  {
   "cell_type": "code",
   "execution_count": 5,
   "id": "e84d52c6-2cf4-4f13-901f-017b4269703a",
   "metadata": {},
   "outputs": [],
   "source": [
    "!wget https://artifacts.elastic.co/downloads/elasticsearch/elasticsearch-7.9.2-linux-x86_64.tar.gz -q\n",
    "!tar -xzf elasticsearch-7.9.2-linux-x86_64.tar.gz\n",
    "!chown -R daemon:daemon elasticsearch-7.9.2"
   ]
  },
  {
   "cell_type": "code",
   "execution_count": 6,
   "id": "4173cf40-5098-478f-9bd7-4ee5ef55a037",
   "metadata": {},
   "outputs": [
    {
     "name": "stdout",
     "output_type": "stream",
     "text": [
      "The history saving thread hit an unexpected error (OperationalError('attempt to write a readonly database')).History will not be written to the database.\n",
      "elastic serach ping : True\n"
     ]
    }
   ],
   "source": [
    "import time\n",
    "from subprocess import Popen, PIPE, STDOUT\n",
    "import os\n",
    "path_to_elastic = \"elasticsearch-7.9.2/bin/elasticsearch\"\n",
    "es_server = Popen([path_to_elastic],\n",
    "                    stdout=PIPE, stderr=STDOUT,\n",
    "                    preexec_fn=os.setuid(1)  # as daemon\n",
    "                    )\n",
    "\n",
    "config = {'host':'localhost', 'port':9200}\n",
    "time.sleep(10)\n",
    "es = Elasticsearch([config])\n",
    "print('elastic serach ping :', es.ping())"
   ]
  },
  {
   "cell_type": "code",
   "execution_count": 7,
   "id": "058a3a4a-02bd-48c3-8e18-74bf58237835",
   "metadata": {},
   "outputs": [],
   "source": [
    "INDEX_CONFIG = {\n",
    "        \"settings\": {\n",
    "            \"analysis\": {\n",
    "                \"analyzer\": {\n",
    "                    \"nori_analyzer\": {\n",
    "                        \"type\": \"custom\",\n",
    "                        \"tokenizer\": \"nori_tokenizer\",\n",
    "                        \"decompound_mode\": \"mixed\",\n",
    "                    }\n",
    "                }\n",
    "            }\n",
    "        },\n",
    "        \"mappings\": {\n",
    "            \"dynamic\": \"strict\", \n",
    "            \"properties\": {\n",
    "                \"id\": {\"type\": \"int\"},\n",
    "                \"title\": {\"type\": \"text\", \"analyzer\":\"nori_analyzer\"},\n",
    "                \"context\": {\"type\": \"text\", \"analyzer\":\"nori_analyzer\"},\n",
    "                }\n",
    "            }\n",
    "        }"
   ]
  },
  {
   "cell_type": "code",
   "execution_count": null,
   "id": "64c0122b-36e8-4b96-81d3-946534941c1c",
   "metadata": {},
   "outputs": [],
   "source": []
  },
  {
   "cell_type": "code",
   "execution_count": 8,
   "id": "991b26de-1f7a-420d-b923-a4683b7fc7d0",
   "metadata": {},
   "outputs": [
    {
     "name": "stderr",
     "output_type": "stream",
     "text": [
      "<ipython-input-8-30f97ff7a951>:3: DeprecationWarning: The 'body' parameter is deprecated for the 'create' API and will be removed in a future version. Instead use API parameters directly. See https://github.com/elastic/elasticsearch-py/issues/1698 for more information\n",
      "  es.indices.create(index=INDEX_NAME, body=INDEX_CONFIG, ignore=400)\n"
     ]
    }
   ],
   "source": [
    "INDEX_NAME = \"wiki\"\n",
    "if not es.indices.exists(index=INDEX_NAME):\n",
    "    es.indices.create(index=INDEX_NAME, body=INDEX_CONFIG, ignore=400)"
   ]
  },
  {
   "cell_type": "code",
   "execution_count": 9,
   "id": "002c2337-7a93-4d9d-8ee2-f98e15e49d30",
   "metadata": {},
   "outputs": [
    {
     "name": "stderr",
     "output_type": "stream",
     "text": [
      "  0%|          | 0/60613 [00:00<?, ?it/s]<ipython-input-9-6b84f5f80725>:4: DeprecationWarning: The 'body' parameter is deprecated for the 'index' API and will be removed in a future version. Instead use the 'document' parameter. See https://github.com/elastic/elasticsearch-py/issues/1698 for more information\n",
      "  index_status = es.index(index=INDEX_NAME, id=i, body=rec)\n",
      "100%|██████████| 60613/60613 [03:53<00:00, 259.71it/s]\n"
     ]
    },
    {
     "name": "stdout",
     "output_type": "stream",
     "text": [
      "Succesfully loaded 60613 into wiki\n"
     ]
    }
   ],
   "source": [
    "from tqdm import tqdm\n",
    "for i, rec in enumerate(tqdm(wiki_contexts)):\n",
    "    try:\n",
    "        index_status = es.index(index=INDEX_NAME, id=i, body=rec)\n",
    "    except:\n",
    "        print(f'Unable to load document {i}.')\n",
    "            \n",
    "n_records = es.count(index=INDEX_NAME)['count']\n",
    "print(f'Succesfully loaded {n_records} into {INDEX_NAME}')"
   ]
  },
  {
   "cell_type": "code",
   "execution_count": 10,
   "id": "03872f7f-bb04-4edb-9d86-392971fd8703",
   "metadata": {},
   "outputs": [
    {
     "name": "stdout",
     "output_type": "stream",
     "text": [
      "Dataset({\n",
      "    features: ['__index_level_0__', 'answers', 'context', 'document_id', 'id', 'question', 'title'],\n",
      "    num_rows: 3952\n",
      "})\n"
     ]
    }
   ],
   "source": [
    "from datasets import load_from_disk\n",
    "train_path = \"/opt/ml/mrc-level2-nlp-11/data/train_dataset\"\n",
    "data = load_from_disk(train_path)\n",
    "train_data = data[\"train\"]\n",
    "print(train_data)"
   ]
  },
  {
   "cell_type": "code",
   "execution_count": 15,
   "id": "dc387969-a72c-4e17-a9e7-44450543c8e3",
   "metadata": {},
   "outputs": [
    {
     "name": "stderr",
     "output_type": "stream",
     "text": [
      "  0%|          | 0/3952 [00:00<?, ?it/s]<ipython-input-15-a8597dc19e1c>:13: DeprecationWarning: The 'body' parameter is deprecated for the 'search' API and will be removed in a future version. Instead use API parameters directly. See https://github.com/elastic/elasticsearch-py/issues/1698 for more information\n",
      "  result = es.search(index=INDEX_NAME, body=query, size=5)\n",
      "  0%|          | 0/3952 [00:00<?, ?it/s]"
     ]
    },
    {
     "name": "stdout",
     "output_type": "stream",
     "text": [
      "[{'_index': 'wiki', '_type': '_doc', '_id': '2283', '_score': 19.043957, '_source': {'id': 2283, 'title': '정부 형태', 'context': '이하의 국가들은 의회에서 행정부 수반을 선출한다는 점에서 내각제와 닮았다. 그리고 이들 국가들 중 상당수는 행정부 수반이 의회해산권을 갖고, 의회는 내각불신임권을 갖는데 이점 역시 내각제와 닮았다. 하지만 내각제와 달리 의회에서 선출되는 자는 행정부 수반의 지위 뿐만 아니라 국가 원수의 지위도 가진다. 그래서 의회에서 선출되는 자의 직위는 총리가 아니라, 대통령이다. 이처럼 1인이 행정부 수반과 국가 원수의 지위를 겸한다는 점에서 대통령중심제와 닮았다. 이상과 같은 이유로 이들 국가들의 정부 형태는 대통령제와 내각제의 절충형이지만, 행정 권한이 2인에게로 분리되어 있지 않으므로 이원집정부제는 아니다.\\n\\n \\n* 나우루\\n* 남아프리카 공화국\\n* 마셜 제도\\n* 마카오\\n* 미얀마\\n* 미크로네시아 연방\\n* 보츠와나\\n* 산마리노\\n* 수리남\\n* 키리바시\\n* 홍콩'}}, {'_index': 'wiki', '_type': '_doc', '_id': '6837', '_score': 19.043957, '_source': {'id': 6837, 'title': '정부 형태', 'context': '이하의 국가들은 의회에서 행정부 수반을 선출한다는 점에서 내각제와 닮았다. 그리고 이들 국가들 중 상당수는 행정부 수반이 의회해산권을 갖고, 의회는 내각불신임권을 갖는데 이점 역시 내각제와 닮았다. 하지만 내각제와 달리 의회에서 선출되는 자는 행정부 수반의 지위 뿐만 아니라 국가 원수의 지위도 가진다. 그래서 의회에서 선출되는 자의 직위는 총리가 아니라, 대통령이다. 이처럼 1인이 행정부 수반과 국가 원수의 지위를 겸한다는 점에서 대통령중심제와 닮았다. 이상과 같은 이유로 이들 국가들의 정부 형태는 대통령제와 내각제의 절충형이지만, 행정 권한이 2인에게로 분리되어 있지 않으므로 이원집정부제는 아니다.\\n\\n \\n* 나우루\\n* 남아프리카 공화국\\n* 마셜 제도\\n* 마카오\\n* 미얀마\\n* 미크로네시아 연방\\n* 보츠와나\\n* 산마리노\\n* 수리남\\n* 키리바시\\n* 홍콩'}}, {'_index': 'wiki', '_type': '_doc', '_id': '1752', '_score': 18.328972, '_source': {'id': 1752, 'title': '통일주체국민회의', 'context': \"통일주체국민회의는 1972년 10월 17일 10월 유신으로 제4공화국이 출범하면서 헌법에 따라 구성된 간접민주주의 기관이다. 가장 중요한 기능은 유신헌법의 핵심인 대통령의 간접 선거 기능을 담당한 것이다. 1973년 8월부터 약칭은 국민회의로 정해졌다. 국민회의는 전국의 각 지역구에서 국민의 직접 선거로 선출된 대의원들로 구성되었는데, 통일주체국민회의 대의원들은 비공식적으로 통대라는 약칭으로 불리었다.\\n\\n유신헌법 제3장에 의하면 통일주체국민회의는 국가의 정상기관(頂上機關)이자 주권적 수임 기관으로서, 조국의 평화적 통일을 촉진하기 위한 국민의 총의가 모인 곳이다. 따라서 6년의 임기를 가진 이 기관의 대의원은 국민의 직접선거로 선출되며, 대통령을 선출하고 국회의원 정수의 3분의 1(유신정우회)을 선출하며, 국회의 헌법 개정안을 최종 의결하고 통일 정책을 심의하는 기능을 갖고 있다.\\n\\n신민당은 제9대 대통령 선거를 앞두고 정당이 대통령 후보를 지명하고, 대의원 선거에 출마하는 대의원 후보들은 지지하는 대통령 후보를 정하고 선거를 치르게 하는 미국의 대통령 선거인 선거 방식의 통일주체국민회의 대의원 선거법 개정안을 내기도 하였으나 이루어지지 않았다. \\n\\n사실상  박정희 대통령의 거수기 노릇을 하던 이 기관은 1979년 10월 26일 그가 암살되자 그 후임 대통령인 최규하와 전두환을 형식적으로 선출해주는 역할을 맡은 뒤, 이듬해 제5공화국 헌법 발효와 함께 해체되었다. 그 후 대통령간선제를 담당하는 기관은 대통령 선거인단으로 교체되었으며, 사무처와 인적구성 및 대통령 직속 통일 관련 기구로써의 역할은 '평화통일정책자문회의'를 거쳐 민주평화통일자문회의로 이어지고 있다.\"}}, {'_index': 'wiki', '_type': '_doc', '_id': '6306', '_score': 17.764019, '_source': {'id': 6306, 'title': '통일주체국민회의', 'context': \"통일주체국민회의는 1972년 10월 17일 10월 유신으로 제4공화국이 출범하면서 헌법에 따라 구성된 간접민주주의 기관이다. 가장 중요한 기능은 유신헌법의 핵심인 대통령의 간접 선거 기능을 담당한 것이다. 1973년 8월부터 약칭은 국민회의로 정해졌다. 국민회의는 전국의 각 지역구에서 국민의 직접 선거로 선출된 대의원들로 구성되었는데, 통일주체국민회의 대의원들은 비공식적으로 통대라는 약칭으로 불리었다.\\\\n\\\\n유신헌법 제3장에 의하면 통일주체국민회의는 국가의 정상기관(頂上機關)이자 주권적 수임 기관으로서, 조국의 평화적 통일을 촉진하기 위한 국민의 총의가 모인 곳이다. 따라서 6년의 임기를 가진 이 기관의 대의원은 국민의 직접선거로 선출되며, 대통령을 선출하고 국회의원 정수의 3분의 1(유신정우회)을 선출하며, 국회의 헌법 개정안을 최종 의결하고 통일 정책을 심의하는 기능을 갖고 있다.\\\\n\\\\n신민당은 제9대 대통령 선거를 앞두고 정당이 대통령 후보를 지명하고, 대의원 선거에 출마하는 대의원 후보들은 지지하는 대통령 후보를 정하고 선거를 치르게 하는 미국의 대통령 선거인 선거 방식의 통일주체국민회의 대의원 선거법 개정안을 내기도 하였으나 이루어지지 않았다. \\\\n\\\\n사실상 박정희 대통령의 거수기 노릇을 하던 이 기관은 1979년 10월 26일 그가 암살되자 그 후임 대통령인 최규하와 전두환을 형식적으로 선출해주는 역할을 맡은 뒤, 이듬해 제5공화국 헌법 발효와 함께 해체되었다. 그 후 대통령간선제를 담당하는 기관은 대통령 선거인단으로 교체되었으며, 사무처와 인적구성 및 대통령 직속 통일 관련 기구로써의 역할은 '평화통일정책자문회의'를 거쳐 민주평화통일자문회의로 이어지고 있다.\"}}, {'_index': 'wiki', '_type': '_doc', '_id': '56145', '_score': 16.125187, '_source': {'id': 56145, 'title': '일본국 헌법 제41조', 'context': '국회에 관해 규정하는 헌법 제4장의 첫 조문이다.\\n\\n본조에서 말하는 \"국권\"이란 국가가 갖는 지배권을 포괄적으로 나타내는 국가 권력, 곧 국가의 통치권을 의미한다. 국권은 일반적으로 입법권·행정권·사법권의 3권으로 분류되지만, 그 중에서도 주권자인 국민의 의사를 직접 반영하는 기관으로서 국회를 \"최고 기관\"으로 규정한 것이다. 다만, 최고 기관이라 해서 타 기관의 감시와 통제를 받지 않는 것은 아니며 권력 분립 원칙에 따라 국회에 대한 행정권, 사법권의 견제를 받는다.\\n\\n또한 일본 전체 국민을 대표하는 기관을 국회로 규정함으로써, 국회는 일본의 유일한 입법 기관의 지위를 가지고 있다. 일본 제국 헌법 하에서 입법권은 천황의 권한에 속했으며, 제국의회는 천황의 입법 행위를 보좌하는 기관에 불과했다.\\n\\n여기서 \"유일한 입법 기관\"의 의미로는 다음과 같은 해석이 있다.\\n* 국회 중심 입법 원칙 : 국회가 국가의 입법권을 독점한다는 원칙\\n* 국회 단독 입법 원칙 : 국회의 입법은 다른 기관의 간섭 없이 이루어진다는 원칙\\n\\n또한 국회의 입법에 벗어나지 않는 범위 내에서 행정 기관은 정령 등의 규칙 제정권을 가지며(헌법 제73조 제6호), 최고재판소는 소송에 관한 절차, 변호사 및 재판소에 관한 내부 규율 및 사법 사무 처리에 관한 사항에 대한 규칙 제정권(헌법 제77조 제1항)을 가진다.'}}]\n",
      "matching score is 0.000\n"
     ]
    },
    {
     "name": "stderr",
     "output_type": "stream",
     "text": [
      "\n"
     ]
    }
   ],
   "source": [
    "match_cnt = 0\n",
    "for datum in tqdm(train_data):\n",
    "    question_text = datum[\"question\"]\n",
    "    context = datum[\"context\"]\n",
    "    query = {\n",
    "            'query': {\n",
    "                'match': {\n",
    "                    'context': question_text\n",
    "                    }\n",
    "                }\n",
    "            }\n",
    "    \n",
    "    result = es.search(index=INDEX_NAME, body=query, size=5)\n",
    "    print(result[\"hits\"][\"hits\"])\n",
    "    break\n",
    "    for res in result[\"hits\"][\"hits\"]:\n",
    "        if res[\"_source\"][\"context\"] == context:\n",
    "            match_cnt += 1\n",
    "            break\n",
    "print(f\"matching score is {match_cnt/3952:.3f}\")"
   ]
  },
  {
   "cell_type": "code",
   "execution_count": 12,
   "id": "90287fdf-4788-4b0a-bd9d-c366e055314a",
   "metadata": {},
   "outputs": [
    {
     "data": {
      "text/plain": [
       "'\\ntop-1 : 0.334\\ntop-5 : 0.562\\ntop-10 : 0.613\\ntop-20 : 0.656\\ntop-30 : 0.680\\ntop-50 : 0.709\\ntop-100: 0.743\\n'"
      ]
     },
     "execution_count": 12,
     "metadata": {},
     "output_type": "execute_result"
    }
   ],
   "source": [
    "'''\n",
    "top-1 : 0.334\n",
    "top-5 : 0.562\n",
    "top-10 : 0.613\n",
    "top-20 : 0.656\n",
    "top-30 : 0.680\n",
    "top-50 : 0.709\n",
    "top-100: 0.743\n",
    "'''"
   ]
  },
  {
   "cell_type": "code",
   "execution_count": 13,
   "id": "dfb1e6ff-3f70-49e2-8705-f35293ed4346",
   "metadata": {},
   "outputs": [
    {
     "ename": "IndentationError",
     "evalue": "unexpected indent (<ipython-input-13-140961a91853>, line 2)",
     "output_type": "error",
     "traceback": [
      "\u001b[0;36m  File \u001b[0;32m\"<ipython-input-13-140961a91853>\"\u001b[0;36m, line \u001b[0;32m2\u001b[0m\n\u001b[0;31m    doc1 doc2 doc3\u001b[0m\n\u001b[0m    ^\u001b[0m\n\u001b[0;31mIndentationError\u001b[0m\u001b[0;31m:\u001b[0m unexpected indent\n"
     ]
    }
   ],
   "source": [
    "###matrix -> LSA \n",
    "     doc1 doc2 doc3\n",
    "term1\n",
    "temr2\n",
    "...\n",
    "nxm\n",
    "LSA,\n",
    "SVD -> n x k, k x k, k xm\n",
    "kxm -> m : 문서, k : latent feature(저자, 주제, )\n",
    "문서마다 k 벡터로 나타나진다 -> k : 3\n",
    "\n",
    "clustering : 10\n",
    "query \n"
   ]
  }
 ],
 "metadata": {
  "kernelspec": {
   "display_name": "Python 3 (ipykernel)",
   "language": "python",
   "name": "python3"
  },
  "language_info": {
   "codemirror_mode": {
    "name": "ipython",
    "version": 3
   },
   "file_extension": ".py",
   "mimetype": "text/x-python",
   "name": "python",
   "nbconvert_exporter": "python",
   "pygments_lexer": "ipython3",
   "version": "3.8.5"
  }
 },
 "nbformat": 4,
 "nbformat_minor": 5
}
